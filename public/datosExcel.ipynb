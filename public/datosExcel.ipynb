{
 "cells": [
  {
   "cell_type": "code",
   "execution_count": 2,
   "metadata": {},
   "outputs": [
    {
     "output_type": "execute_result",
     "data": {
      "text/plain": "       0      1   2                                               3   4\n0     -1  False  No                                         HAIKYUU  26\n1     -1  False  No                                     HAIKYUU 2DN  25\n2     -1  False  No                                     HAIKYUU 3RD  10\n3     -1  False  No                          HAIYORE! NYARUKO-SAN W  13\n4     -1  False  No                             HATARAKU MAOU-SAMA!  13\n..   ...    ...  ..                                             ...  ..\n281  235   True  No  Rikei ga Koi ni Ochita no de Shoumei shitemita  12\n282  236   True  No                   Eizouken ni wa Te wo Dasu na!  12\n283  237   True  No                                        Beastars  12\n284  233   True  No                                 Hoshiai no Sora  12\n285  234   True  No                Araburu Kisetsu no Otome-domo yo  12\n\n[286 rows x 5 columns]",
      "text/html": "<div>\n<style scoped>\n    .dataframe tbody tr th:only-of-type {\n        vertical-align: middle;\n    }\n\n    .dataframe tbody tr th {\n        vertical-align: top;\n    }\n\n    .dataframe thead th {\n        text-align: right;\n    }\n</style>\n<table border=\"1\" class=\"dataframe\">\n  <thead>\n    <tr style=\"text-align: right;\">\n      <th></th>\n      <th>0</th>\n      <th>1</th>\n      <th>2</th>\n      <th>3</th>\n      <th>4</th>\n    </tr>\n  </thead>\n  <tbody>\n    <tr>\n      <th>0</th>\n      <td>-1</td>\n      <td>False</td>\n      <td>No</td>\n      <td>HAIKYUU</td>\n      <td>26</td>\n    </tr>\n    <tr>\n      <th>1</th>\n      <td>-1</td>\n      <td>False</td>\n      <td>No</td>\n      <td>HAIKYUU 2DN</td>\n      <td>25</td>\n    </tr>\n    <tr>\n      <th>2</th>\n      <td>-1</td>\n      <td>False</td>\n      <td>No</td>\n      <td>HAIKYUU 3RD</td>\n      <td>10</td>\n    </tr>\n    <tr>\n      <th>3</th>\n      <td>-1</td>\n      <td>False</td>\n      <td>No</td>\n      <td>HAIYORE! NYARUKO-SAN W</td>\n      <td>13</td>\n    </tr>\n    <tr>\n      <th>4</th>\n      <td>-1</td>\n      <td>False</td>\n      <td>No</td>\n      <td>HATARAKU MAOU-SAMA!</td>\n      <td>13</td>\n    </tr>\n    <tr>\n      <th>...</th>\n      <td>...</td>\n      <td>...</td>\n      <td>...</td>\n      <td>...</td>\n      <td>...</td>\n    </tr>\n    <tr>\n      <th>281</th>\n      <td>235</td>\n      <td>True</td>\n      <td>No</td>\n      <td>Rikei ga Koi ni Ochita no de Shoumei shitemita</td>\n      <td>12</td>\n    </tr>\n    <tr>\n      <th>282</th>\n      <td>236</td>\n      <td>True</td>\n      <td>No</td>\n      <td>Eizouken ni wa Te wo Dasu na!</td>\n      <td>12</td>\n    </tr>\n    <tr>\n      <th>283</th>\n      <td>237</td>\n      <td>True</td>\n      <td>No</td>\n      <td>Beastars</td>\n      <td>12</td>\n    </tr>\n    <tr>\n      <th>284</th>\n      <td>233</td>\n      <td>True</td>\n      <td>No</td>\n      <td>Hoshiai no Sora</td>\n      <td>12</td>\n    </tr>\n    <tr>\n      <th>285</th>\n      <td>234</td>\n      <td>True</td>\n      <td>No</td>\n      <td>Araburu Kisetsu no Otome-domo yo</td>\n      <td>12</td>\n    </tr>\n  </tbody>\n</table>\n<p>286 rows × 5 columns</p>\n</div>"
     },
     "metadata": {},
     "execution_count": 2
    }
   ],
   "source": [
    "import pandas as pd\n",
    "import numpy as np\n",
    "df = pd.read_excel('Anime!.xlsx', header=None, skiprows=1)\n",
    "df"
   ]
  },
  {
   "cell_type": "code",
   "execution_count": 6,
   "metadata": {},
   "outputs": [],
   "source": [
    "numeroVisto = np.array(df[0])\n",
    "visto = np.array(df[1])\n",
    "nombre = np.array(df[3])"
   ]
  },
  {
   "cell_type": "code",
   "execution_count": 8,
   "metadata": {},
   "outputs": [],
   "source": [
    "listaNumeroVisto = []\n",
    "listaVisto = []\n",
    "listaNombre = []\n",
    "for i in range(286):\n",
    "    listaNumeroVisto.append(numeroVisto[i])\n",
    "for i in range(286):\n",
    "    listaVisto.append(visto[i])\n",
    "for i in range(286):\n",
    "    listaNombre.append(nombre[i])\n",
    "    \n",
    ""
   ]
  },
  {
   "cell_type": "code",
   "execution_count": 11,
   "metadata": {},
   "outputs": [
    {
     "output_type": "execute_result",
     "data": {
      "text/plain": "['HAIKYUU',\n 'HAIKYUU 2DN',\n 'HAIKYUU 3RD',\n 'HAIYORE! NYARUKO-SAN W',\n 'HATARAKU MAOU-SAMA!',\n 'HOUSEKI NO KUNI',\n 'INUYASHIKI',\n 'KARA NO KYOUKAI',\n 'LOG HORIZON',\n 'LOG HORIZON 2DN',\n 'MAHOU SHOUJO IKUSEI KEIKAKU',\n 'NORAGAMI ARAGOTO',\n 'ORANGE',\n 'OREGAIRU',\n 'OVERLORD 2DN',\n 'OVERLORD 3RD',\n 'OWARIMONOGATARI',\n 'OWARIMONOGATARI 2ND',\n 'PARASYTE',\n 'PERSONA 5 THE ANIMATION',\n 'RE: ZERO',\n 'ROZEN MAIDEN',\n 'SAKURA CARD CAPTOR: CLEAR CARD-HEN',\n 'SHIKI',\n 'SHOUJO SHUUMATSU RYOKOU',\n 'STEINS;GATE 0',\n 'TALES OF ZETRIA THE X',\n 'TALES OF ZETRIA THE X (2017)',\n 'TWIN SPIRIT DETECTIVES',\n 'UCHOUTEN KAZOKU',\n 'UCHOUTEN KAZOKU 2DN',\n 'VATICAN KISEKI CHOUSANKAN',\n 'YUMEKUI MERRY',\n 'ZERO KARA HAJIMERU MAHOU NO SHO',\n 'Jibaku Shounen Hanako-kun',\n 'Koisuru Asteroid',\n 'AKATSUKI NO YONA',\n 'ARSLAN SENKI',\n 'AYAKASHI',\n 'BOKU WA TOMODACHI GA SUKINAI',\n 'BOKU WA TOMODACHI GA SUKINAI NEXT',\n 'DOREI-KU THE ANIMATION',\n 'FATE/EXTRA LAST ENCORE',\n 'HIMOUTO! UMARU-CHAN R',\n 'KIMETSU NO YAIBA',\n 'KUROKO NO BASUKE 3RD',\n 'KYOUKAI NO RINNE 3RD',\n 'TATENO YUUSHA NO NARIAGARI',\n 'BOOGIEPOP WA WARAWANAI(2019)',\n 'DOMETIC NA KANOJO',\n '91 DAYS',\n 'ACCHI KOCCHI',\n 'AKAGAMI NO SHIRAYUKI-HIME',\n 'AMAGI BRILLANT PARK',\n 'AMNESIA',\n 'ANGEL BEATS!',\n 'ANOHANA',\n 'ANOTHER',\n 'AO NO EXORCIST',\n 'AO NO EXORCIST: KYOTO FUJOUO-HEN',\n 'AOHARUX KIKANJOU',\n 'ASSASSINATION CLASSROOM',\n 'BAKEMONOGATARI',\n 'BAKUMAN',\n 'BLACK BULLET',\n 'BLACK LAGOON',\n \"BLACK LAGOON:ROBERTA'S BOOLD TRAIL\",\n 'BLACK LAGOON:THE SECOND BARRAGE',\n 'BLACK ROCK SHOOTER',\n 'BLEND S',\n 'BOKU NO HERO ACADEMIA',\n 'BOKU NO HERO ACADEMIA 2ND',\n 'BOKU NO KANOJO MAJIMESUGIRO SHO-BITCH NA KEN',\n 'BROTHER CONFLICT',\n 'BTOOOM!',\n 'BUNGO STRAY DOGS',\n 'BUNGO STRAY DOGS 2',\n 'CALIGULA',\n 'CHARLOTTE',\n 'CHUUNIBYOU DEMOKOI GASHITAI!!',\n 'CHUUNIBYOU DEMOKOI GASHITAI!! REN',\n 'CLANNAD',\n 'CLOCKWORK PLANET',\n 'CODE GEASS',\n 'CODE GEASS R2',\n 'COPPELION',\n 'COWBOY BEBOP',\n 'DANGARONPA',\n 'DARKER THAN BLACK',\n 'DEADMAN WONDERLAND',\n 'DEATH NOTE',\n 'DEATH PARADE',\n 'DEVILMAN CRYBABY',\n \"DEVIL'S LINE\",\n 'DIABOLIK LOVERS',\n 'DIMENSION W',\n 'DRAMATICAL MURDER',\n 'DRIFTERS',\n 'DUNGEON NI DEAI O MOTEMERU NO WA MACHIGATTEIRU DAROUKA',\n 'DURARARA!!',\n 'DURARARA!! X2 KETSU',\n 'DURARARA!! X2 SHOU',\n 'DURARARA!! X2 TEN',\n 'ELFEN LIED',\n 'EROMANGA-SENSEI',\n 'EVANGELION',\n 'FAIRY TAIL',\n 'FATE/APOCRYPHA',\n 'FATE/STAY NIGHT UNLIMITED BLADE WORKS',\n 'FATE/STAY NIGHT UNLIMITED BLADE WORKS 2ND',\n 'FATE/ZERO',\n 'FATE/ZERO 2',\n 'FREE!',\n 'FREE! ETERNAL SUMMER',\n 'FULLMETAL ALCHEMIST: BROTHERHOOD',\n 'GAKUEN BABYSITTERS',\n 'GAMERS!!!',\n 'GANGSTA',\n 'GARO',\n 'GHOST IN THE SHELL ALONE COMPLEX',\n 'GOLDEN KAMUY ',\n 'GOSICK',\n 'GUILTY CROWN',\n 'GUNSLIGER STRATOS THE ANIMATION',\n 'HAIYORE! NYARUKO-SAN',\n 'HAKATA TONKOTSU RAMENS',\n 'HANAMONOGATARI',\n 'HELLSING',\n 'HELLSING ULTIMTE',\n 'HENTAI OUJI TO WARAWANAI NEKO',\n 'HEROIC AGE!',\n 'HIGHSCHOOL OF THE DEAD',\n 'HIMOUTO UMARU-CHAN',\n 'HINAMATSURI',\n 'HITOTIJIME MY HERO',\n 'HYOUKA',\n 'INUYASHA',\n 'JUNJOU ROMANTICA',\n 'JUNJOU ROMANTICA 2DN',\n 'JUNJOU ROMANTICA 3RD',\n 'JUUOU MUJIN NO FAFNIR',\n 'KAICHOU WA MAID SAMA',\n 'KAKEGURUI',\n 'KAMISAMA NO MONO CHOU',\n 'KATSUGEKI/TOUKEN RANBU',\n 'KEKKAI SENSEN',\n 'KEKKAI SENSEN & BEYOND',\n 'KILL LA KILL',\n 'KIMI NI TODOKE',\n 'KIMI NI TODOKE 2ND SEASON',\n 'KISUMONOGATARI 1 2 3',\n 'KOBAYASHI-SAN CHINO MAIDRAGON',\n 'KOKKOKU',\n 'KONOSUBA',\n 'KONOSUBA 2DN',\n 'KORE WA ZOMBIE DESU KA?',\n 'KORE WA ZOMBIE DESU KA?OF THE DEAD',\n 'KOYOMIMONOGATARI',\n 'KUMA MIKO',\n 'KUROMUKURO',\n 'KUROSHITSUJI',\n 'KUROSHITSUJI 2DN',\n 'KUROSHITSUJI 3: BOOK OF CIRCUS',\n 'KYOUKAI NO KANATA',\n \"KYOUKAI NO KANATA -I'LL BE HERE- KAKO-HEN\",\n \"KYOUKAI NO KANATA -I'LL BE HERE- MIRAI-HEN\",\n 'KYOUKAI NO RINNE ',\n 'KYOUKAI NO RINNE 2DN',\n 'LITTLE WITCH ACADEMIA',\n 'LOVE STAGE!!',\n 'MADE IN ABYSS',\n 'MAGI',\n 'MAGI: THE KINSDON OF MAGIC',\n 'MAHOU SHOUJO SITE',\n 'MAHOU TSUKAI NO YOME',\n 'MAJI DE WATASHI NI KOI SHINASAI!!',\n 'MANGAKA-SAN TO ASSISTAN-SAN THE ANIMATION',\n 'MNEMOSYNE',\n 'MOB PSYCHO 100',\n 'MONOGATARI SERIES 2',\n 'MONSTER',\n 'NARUTO',\n 'NARUTO SHIPPUDEN',\n 'NEKOMONOGATARI',\n 'NISEMONOGATARI',\n 'NO GAME NO LIFE',\n 'NOBUNAGUN',\n 'NORAGAMI',\n 'OCCULTIC;NINE',\n 'OOKAMI SHOUJO TO KURO OUJI',\n 'OSEKE WA FUUFU NI NATTE KARA',\n 'OURAN HIGH SCHOOL HOST CLUB',\n 'OVERLORD',\n 'OWARI NO SERAPH',\n 'OWARI NO SERAPH: NOGOYA KESSEN-HEN',\n 'PLASTIC MEMORIES',\n 'POKEMON:LOS ORIGENES',\n 'PSYCHO PASS ',\n 'PSYCHO PASS 2DN',\n 'PUELLA MAGIC MADOKA MAGIKA',\n 'R-15',\n 'RE LIFE',\n 'ROKKA NO YUUSHA',\n 'ROKUDENASHI MAJUTSU TO AKASHIC RECORDS',\n 'SAKAMOTO DESU GA?',\n 'SAKURA CARD CAPTOR',\n 'SAKURADA RESET',\n 'SAKURA-SAO NO PET NA KANOJO',\n 'SATEINS;GATE',\n 'SCHOOL DAYS',\n 'SEKAI-ICHI HATSUKOI',\n 'SEKAI-ICHI HATSUKOI 2DN',\n 'SELCTORS INFECTED WIXOSS',\n 'SELCTORS SPREAD WIXOSS',\n 'SHIMAI MAO NO TESTAMENT',\n 'SHIMONETA TO LU GAINEN GA SONZAI SHINAI TAIKITSU NA SEKAI',\n 'SHINGEKI NO BAHAMUT',\n 'SHINGEKI NO BAHAMUT: VIRGIN SOUL',\n 'SHINSEKAI YORI',\n 'SORA NO OTOSHIMONO',\n 'SORA NO OTOSHIMONO FORTE',\n 'SOUL EATER',\n 'STRIKE THE BLOOD',\n 'SUPER LOVERS',\n 'SUPER LOVERS 2DN',\n 'TENGEN TOPPA GURREN LAGAN',\n 'THE MELANCHOLY OF HARUHI SUZUMIYA',\n 'TOARU HIKOSHI E NO KOIUTA',\n 'TOKYO GHOUL',\n 'TOKYO GHOUL  √A',\n 'TONARI NO KAIBUTSU KUN',\n 'TORADORA',\n 'TRINITY SEVEN',\n 'TSUKI GA KIREI',\n 'TSUKIMONOGATARI',\n 'TSUREZURE CHILDREN',\n 'VIOLET EVERGARDEN',\n 'WATASHI GA MOTETE DOUSUNDA',\n 'WITCH CRAFT WORKS',\n 'WOTAKU NI KOI WA MUZUKASHII',\n 'WWW .WORKING',\n 'YURI ON ICE',\n 'ZANKYO NO TERROR',\n 'DARLING IN THE FRANXX',\n 'KIZNAIVER',\n 'YAMADA-KUN TO 7-NIN NO MAJO',\n 'AKAME GA KILL',\n 'MEKAKU CITY ACTORS',\n 'PIANO NO MORI',\n 'YOUJO SENKI',\n 'YURU CAMP△',\n 'HAPPY SUGAR LIFE',\n 'TENROU SIRIUS THE JAEGER',\n 'HATARAKU NO SAIBO',\n 'MUSAIGEN NO PHANTOM WORLD',\n 'FLCL (FURI KURI)',\n 'BOKU NO HERO ACADEMIA 3RD',\n 'SATSURIKU NO TENSHI',\n 'ONE PUNCH MAN',\n 'BOKU DAKE GA INAI MACHI',\n 'KUROKO NO BASUKE',\n 'KUROKO NO BASUKE 2ND',\n 'ASOBI ASOBASE',\n 'GAKKOU GURASHI!',\n 'UCHI NO MAID GA UZASUGIRU!',\n 'YAGATE KIMI NI NARU',\n 'GOLDEN KAMUY 2ND',\n 'BANANA FISH',\n 'TENSEI SHITARA SLIME DATTA KEN',\n 'YAKUSOKU NO NEVERLAND',\n 'MOB PSYCHO 2',\n 'DOUKYONIN WA HIZA, TOKIDOKI, ATAMA NO UE',\n 'HIGURASHI NO NAKU KORO NI',\n 'HIGH SCORE GIRL',\n 'KAGUYA-SAMA: LOVE IS WAR',\n 'TRIGUN',\n 'GEKKA SHOUJO NOZAKI-KUN',\n 'BUNGOU STRAY DOGS 3RD',\n 'FRUITS BASKET (2019)',\n 'GUNYOU NO MAGMEL',\n 'DORORO',\n 'Rikei ga Koi ni Ochita no de Shoumei shitemita',\n 'Eizouken ni wa Te wo Dasu na!',\n 'Beastars',\n 'Hoshiai no Sora',\n 'Araburu Kisetsu no Otome-domo yo']"
     },
     "metadata": {},
     "execution_count": 11
    }
   ],
   "source": [
    "listaNombre"
   ]
  },
  {
   "cell_type": "code",
   "execution_count": null,
   "metadata": {},
   "outputs": [],
   "source": []
  }
 ],
 "metadata": {
  "kernelspec": {
   "display_name": "Python 3",
   "language": "python",
   "name": "python3"
  },
  "language_info": {
   "codemirror_mode": {
    "name": "ipython",
    "version": 3
   },
   "file_extension": ".py",
   "mimetype": "text/x-python",
   "name": "python",
   "nbconvert_exporter": "python",
   "pygments_lexer": "ipython3",
   "version": "3.7.6-final"
  }
 },
 "nbformat": 4,
 "nbformat_minor": 4
}